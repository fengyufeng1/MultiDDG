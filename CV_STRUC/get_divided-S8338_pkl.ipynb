{
 "cells": [
  {
   "cell_type": "code",
   "execution_count": null,
   "metadata": {},
   "outputs": [],
   "source": [
    "import os\n",
    "import random\n",
    "import shutil\n",
    "import numpy as np\n",
    "import subprocess\n",
    "import pandas as pd\n",
    "import pickle\n",
    "import math\n",
    "\n",
    "# 打开文件并读取数据\n",
    "f = open(f'/mnt/nfs/fengyf/PPI_ddg_Prediction2/ALL_Prot_cv_2/Prot_cv_pkl/divided-SKEMPI2_S4169.pkl', 'rb')\n",
    "divid = pickle.load(f)\n",
    "f.close()\n",
    "\n",
    "split_folds = []\n",
    "for key in divid.keys():\n",
    "    split_folds.append((divid[key][0], divid[key][1]))\n",
    "\n",
    "# 初始化 S8338 列表\n",
    "S8338 = [[[],[]]] * len(split_folds)\n",
    "\n",
    "fold = 0\n",
    "folds_dict = {}\n",
    "for train_index, valid_index in split_folds:\n",
    "    \n",
    "    S8338[fold][0] = train_index + [i+4169 for i in train_index]\n",
    "    S8338[fold][1] = valid_index + [i+4169 for i in valid_index]\n",
    "#     print(f'fold:{fold}', S8338[fold][0])\n",
    "#     print('\\n\\n',S8338[fold][1])\n",
    "    \n",
    "    # 构建每个fold的字典\n",
    "    folds_dict[fold] = [S8338[fold][0], S8338[fold][1]]\n",
    "    \n",
    "    fold += 1\n",
    "    \n",
    "with open('/mnt/nfs/fengyf/PPI_ddg_Prediction4/ALL_Prot_cv_4/Prot_cv_pkl/divided-SKEMPI2_S8338.pkl', 'wb') as f:\n",
    "        pickle.dump(folds_dict, f)    \n",
    "print(len(set(folds_dict[1][0]+folds_dict[1][1])))"
   ]
  }
 ],
 "metadata": {
  "language_info": {
   "name": "python"
  }
 },
 "nbformat": 4,
 "nbformat_minor": 2
}
